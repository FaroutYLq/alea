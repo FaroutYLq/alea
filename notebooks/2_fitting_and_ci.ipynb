{
 "cells": [
  {
   "cell_type": "markdown",
   "metadata": {},
   "source": [
    "# 2. The BlueiceExtendedModel: Fitting and Confidence Intervals\n",
    "In the previous tutorial we learned about the `BlueiceExtendedModel` and its rate and shape parameters. Now, we'll make use of this knowledge to fit the model to data and compute a confidence interval for the WIMP rate parameter."
   ]
  },
  {
   "cell_type": "code",
   "execution_count": 1,
   "metadata": {},
   "outputs": [],
   "source": [
    "import numpy as np\n",
    "import matplotlib.pyplot as plt\n",
    "\n",
    "from alea import BlueiceExtendedModel"
   ]
  },
  {
   "cell_type": "code",
   "execution_count": 2,
   "metadata": {},
   "outputs": [],
   "source": [
    "# Just some plotting settings\n",
    "import matplotlib as mpl\n",
    "mpl.rcParams['figure.dpi'] = 200\n",
    "mpl.rcParams['figure.figsize'] = [4, 3]\n",
    "mpl.rcParams['font.family'] = 'serif'\n",
    "mpl.rcParams['font.size'] = 9"
   ]
  },
  {
   "cell_type": "markdown",
   "metadata": {},
   "source": [
    "## 2.1 Initializing the model & generating data\n",
    "This is the same as in the previous notebook."
   ]
  },
  {
   "cell_type": "code",
   "execution_count": 3,
   "metadata": {},
   "outputs": [
    {
     "name": "stderr",
     "output_type": "stream",
     "text": [
      "Computing/loading models on one core: 100%|██████████| 5/5 [00:00<00:00, 367.10it/s]\n"
     ]
    }
   ],
   "source": [
    "# initialize\n",
    "config_path = 'unbinned_wimp_statistical_model_simple.yaml'\n",
    "model = BlueiceExtendedModel.from_config(config_path)\n",
    "\n",
    "# generate and assign data\n",
    "data = model.generate_data()\n",
    "model.data = data"
   ]
  },
  {
   "cell_type": "markdown",
   "metadata": {},
   "source": [
    "## 2.2 Fitting the data"
   ]
  },
  {
   "cell_type": "markdown",
   "metadata": {},
   "source": [
    "Now that the data is set, we can perform the unconditional fit as in the first example notebook:"
   ]
  },
  {
   "cell_type": "code",
   "execution_count": 4,
   "metadata": {},
   "outputs": [
    {
     "data": {
      "text/plain": [
       "{'wimp_mass': 50.0,\n",
       " 'livetime': 2.0,\n",
       " 'wimp_rate_multiplier': 1.2627170044682268,\n",
       " 'er_rate_multiplier': 0.9695221032538812,\n",
       " 'er_band_shift': 0.03394646399597126}"
      ]
     },
     "execution_count": 4,
     "metadata": {},
     "output_type": "execute_result"
    }
   ],
   "source": [
    "best_fit, max_ll = model.fit()\n",
    "best_fit"
   ]
  },
  {
   "cell_type": "markdown",
   "metadata": {},
   "source": [
    "Let's check the expectation values under the best-fit parameters:"
   ]
  },
  {
   "cell_type": "code",
   "execution_count": 5,
   "metadata": {},
   "outputs": [
    {
     "data": {
      "text/plain": [
       "{'er': 387.8088413015525, 'wimp': 25.25434008936454}"
      ]
     },
     "execution_count": 5,
     "metadata": {},
     "output_type": "execute_result"
    }
   ],
   "source": [
    "model.get_expectation_values(**best_fit)"
   ]
  },
  {
   "cell_type": "markdown",
   "metadata": {},
   "source": [
    "Since we use [iminuit](https://iminuit.readthedocs.io/en/stable/index.html) as a backend for minimizing the likelihood, we can have a look at the very detailed iminuit output, which provides much more information about the fit:"
   ]
  },
  {
   "cell_type": "code",
   "execution_count": 6,
   "metadata": {},
   "outputs": [
    {
     "data": {
      "text/html": [
       "<table>\n",
       "    <tr>\n",
       "        <th colspan=\"2\" style=\"text-align:center\" title=\"Minimizer\"> Migrad </th>\n",
       "    </tr>\n",
       "    <tr>\n",
       "        <td style=\"text-align:left\" title=\"Minimum value of function\"> FCN = 3035 </td>\n",
       "        <td style=\"text-align:center\" title=\"Total number of function and (optional) gradient evaluations\"> Nfcn = 66 </td>\n",
       "    </tr>\n",
       "    <tr>\n",
       "        <td style=\"text-align:left\" title=\"Estimated distance to minimum and goal\"> EDM = 7.67e-07 (Goal: 0.0001) </td>\n",
       "        <td style=\"text-align:center\" title=\"Total run time of algorithms\">  </td>\n",
       "    </tr>\n",
       "    <tr>\n",
       "        <td style=\"text-align:center;background-color:#92CCA6;color:black\"> Valid Minimum </td>\n",
       "        <td style=\"text-align:center;background-color:#92CCA6;color:black\"> Below EDM threshold (goal x 10) </td>\n",
       "    </tr>\n",
       "    <tr>\n",
       "        <td style=\"text-align:center;background-color:#92CCA6;color:black\"> No parameters at limit </td>\n",
       "        <td style=\"text-align:center;background-color:#92CCA6;color:black\"> Below call limit </td>\n",
       "    </tr>\n",
       "    <tr>\n",
       "        <td style=\"text-align:center;background-color:#92CCA6;color:black\"> Hesse ok </td>\n",
       "        <td style=\"text-align:center;background-color:#92CCA6;color:black\"> Covariance accurate </td>\n",
       "    </tr>\n",
       "</table><table>\n",
       "    <tr>\n",
       "        <td></td>\n",
       "        <th title=\"Variable name\"> Name </th>\n",
       "        <th title=\"Value of parameter\"> Value </th>\n",
       "        <th title=\"Hesse error\"> Hesse Error </th>\n",
       "        <th title=\"Minos lower error\"> Minos Error- </th>\n",
       "        <th title=\"Minos upper error\"> Minos Error+ </th>\n",
       "        <th title=\"Lower limit of the parameter\"> Limit- </th>\n",
       "        <th title=\"Upper limit of the parameter\"> Limit+ </th>\n",
       "        <th title=\"Is the parameter fixed in the fit\"> Fixed </th>\n",
       "    </tr>\n",
       "    <tr>\n",
       "        <th> 0 </th>\n",
       "        <td> wimp_mass </td>\n",
       "        <td> 50.0 </td>\n",
       "        <td> 0.5 </td>\n",
       "        <td>  </td>\n",
       "        <td>  </td>\n",
       "        <td>  </td>\n",
       "        <td>  </td>\n",
       "        <td> yes </td>\n",
       "    </tr>\n",
       "    <tr>\n",
       "        <th> 1 </th>\n",
       "        <td> livetime </td>\n",
       "        <td> 2.00 </td>\n",
       "        <td> 0.02 </td>\n",
       "        <td>  </td>\n",
       "        <td>  </td>\n",
       "        <td>  </td>\n",
       "        <td>  </td>\n",
       "        <td> yes </td>\n",
       "    </tr>\n",
       "    <tr>\n",
       "        <th> 2 </th>\n",
       "        <td> wimp_rate_multiplier </td>\n",
       "        <td> 1.26 </td>\n",
       "        <td> 0.32 </td>\n",
       "        <td>  </td>\n",
       "        <td>  </td>\n",
       "        <td> 0 </td>\n",
       "        <td>  </td>\n",
       "        <td>  </td>\n",
       "    </tr>\n",
       "    <tr>\n",
       "        <th> 3 </th>\n",
       "        <td> er_rate_multiplier </td>\n",
       "        <td> 0.97 </td>\n",
       "        <td> 0.05 </td>\n",
       "        <td>  </td>\n",
       "        <td>  </td>\n",
       "        <td> 0 </td>\n",
       "        <td>  </td>\n",
       "        <td>  </td>\n",
       "    </tr>\n",
       "    <tr>\n",
       "        <th> 4 </th>\n",
       "        <td> er_band_shift </td>\n",
       "        <td> 0.03 </td>\n",
       "        <td> 0.07 </td>\n",
       "        <td>  </td>\n",
       "        <td>  </td>\n",
       "        <td> -2 </td>\n",
       "        <td> 2 </td>\n",
       "        <td>  </td>\n",
       "    </tr>\n",
       "</table><table>\n",
       "    <tr>\n",
       "        <td></td>\n",
       "        <th> wimp_mass </th>\n",
       "        <th> livetime </th>\n",
       "        <th> wimp_rate_multiplier </th>\n",
       "        <th> er_rate_multiplier </th>\n",
       "        <th> er_band_shift </th>\n",
       "    </tr>\n",
       "    <tr>\n",
       "        <th> wimp_mass </th>\n",
       "        <td> 0 </td>\n",
       "        <td style=\"background-color:rgb(250,250,250);color:black\"> 0 </td>\n",
       "        <td style=\"background-color:rgb(250,250,250);color:black\"> 0.0 </td>\n",
       "        <td style=\"background-color:rgb(250,250,250);color:black\"> 0.0000 </td>\n",
       "        <td style=\"background-color:rgb(250,250,250);color:black\"> 0.000 </td>\n",
       "    </tr>\n",
       "    <tr>\n",
       "        <th> livetime </th>\n",
       "        <td style=\"background-color:rgb(250,250,250);color:black\"> 0 </td>\n",
       "        <td> 0 </td>\n",
       "        <td style=\"background-color:rgb(250,250,250);color:black\"> 0.0 </td>\n",
       "        <td style=\"background-color:rgb(250,250,250);color:black\"> 0.0000 </td>\n",
       "        <td style=\"background-color:rgb(250,250,250);color:black\"> 0.000 </td>\n",
       "    </tr>\n",
       "    <tr>\n",
       "        <th> wimp_rate_multiplier </th>\n",
       "        <td style=\"background-color:rgb(250,250,250);color:black\"> 0.0 </td>\n",
       "        <td style=\"background-color:rgb(250,250,250);color:black\"> 0.0 </td>\n",
       "        <td> 0.1 </td>\n",
       "        <td style=\"background-color:rgb(235,235,250);color:black\"> -0.0018 <strong>(-0.114)</strong> </td>\n",
       "        <td style=\"background-color:rgb(250,238,238);color:black\"> 0.002 <strong>(0.079)</strong> </td>\n",
       "    </tr>\n",
       "    <tr>\n",
       "        <th> er_rate_multiplier </th>\n",
       "        <td style=\"background-color:rgb(250,250,250);color:black\"> 0.0000 </td>\n",
       "        <td style=\"background-color:rgb(250,250,250);color:black\"> 0.0000 </td>\n",
       "        <td style=\"background-color:rgb(235,235,250);color:black\"> -0.0018 <strong>(-0.114)</strong> </td>\n",
       "        <td> 0.00241 </td>\n",
       "        <td style=\"background-color:rgb(247,247,250);color:black\"> -0.0001 <strong>(-0.024)</strong> </td>\n",
       "    </tr>\n",
       "    <tr>\n",
       "        <th> er_band_shift </th>\n",
       "        <td style=\"background-color:rgb(250,250,250);color:black\"> 0.000 </td>\n",
       "        <td style=\"background-color:rgb(250,250,250);color:black\"> 0.000 </td>\n",
       "        <td style=\"background-color:rgb(250,238,238);color:black\"> 0.002 <strong>(0.079)</strong> </td>\n",
       "        <td style=\"background-color:rgb(247,247,250);color:black\"> -0.0001 <strong>(-0.024)</strong> </td>\n",
       "        <td> 0.00465 </td>\n",
       "    </tr>\n",
       "</table>"
      ],
      "text/plain": [
       "┌─────────────────────────────────────────────────────────────────────────┐\n",
       "│                                Migrad                                   │\n",
       "├──────────────────────────────────┬──────────────────────────────────────┤\n",
       "│ FCN = 3035                       │              Nfcn = 66               │\n",
       "│ EDM = 7.67e-07 (Goal: 0.0001)    │                                      │\n",
       "├──────────────────────────────────┼──────────────────────────────────────┤\n",
       "│          Valid Minimum           │   Below EDM threshold (goal x 10)    │\n",
       "├──────────────────────────────────┼──────────────────────────────────────┤\n",
       "│      No parameters at limit      │           Below call limit           │\n",
       "├──────────────────────────────────┼──────────────────────────────────────┤\n",
       "│             Hesse ok             │         Covariance accurate          │\n",
       "└──────────────────────────────────┴──────────────────────────────────────┘\n",
       "┌───┬──────────────────────┬───────────┬───────────┬────────────┬────────────┬─────────┬─────────┬───────┐\n",
       "│   │ Name                 │   Value   │ Hesse Err │ Minos Err- │ Minos Err+ │ Limit-  │ Limit+  │ Fixed │\n",
       "├───┼──────────────────────┼───────────┼───────────┼────────────┼────────────┼─────────┼─────────┼───────┤\n",
       "│ 0 │ wimp_mass            │   50.0    │    0.5    │            │            │         │         │  yes  │\n",
       "│ 1 │ livetime             │   2.00    │   0.02    │            │            │         │         │  yes  │\n",
       "│ 2 │ wimp_rate_multiplier │   1.26    │   0.32    │            │            │    0    │         │       │\n",
       "│ 3 │ er_rate_multiplier   │   0.97    │   0.05    │            │            │    0    │         │       │\n",
       "│ 4 │ er_band_shift        │   0.03    │   0.07    │            │            │   -2    │    2    │       │\n",
       "└───┴──────────────────────┴───────────┴───────────┴────────────┴────────────┴─────────┴─────────┴───────┘\n",
       "┌──────────────────────┬──────────────────────────────────────────────────────────────────────────────────────────────────────────┐\n",
       "│                      │            wimp_mass             livetime wimp_rate_multiplier   er_rate_multiplier        er_band_shift │\n",
       "├──────────────────────┼──────────────────────────────────────────────────────────────────────────────────────────────────────────┤\n",
       "│            wimp_mass │                    0                    0                  0.0               0.0000                0.000 │\n",
       "│             livetime │                    0                    0                  0.0               0.0000                0.000 │\n",
       "│ wimp_rate_multiplier │                  0.0                  0.0                  0.1              -0.0018                0.002 │\n",
       "│   er_rate_multiplier │               0.0000               0.0000              -0.0018              0.00241              -0.0001 │\n",
       "│        er_band_shift │                0.000                0.000                0.002              -0.0001              0.00465 │\n",
       "└──────────────────────┴──────────────────────────────────────────────────────────────────────────────────────────────────────────┘"
      ]
     },
     "execution_count": 6,
     "metadata": {},
     "output_type": "execute_result"
    }
   ],
   "source": [
    "model.minuit_object"
   ]
  },
  {
   "cell_type": "markdown",
   "metadata": {},
   "source": [
    "You can see that the parameters, which are not fittable are fixed in the fit to their nominal values. For comparison let's have a look at our parameter definition again:"
   ]
  },
  {
   "cell_type": "code",
   "execution_count": 7,
   "metadata": {},
   "outputs": [
    {
     "name": "stdout",
     "output_type": "stream",
     "text": [
      "                      nominal_value  fittable  ptype  uncertainty relative_uncertainty    blueice_anchors fit_limits parameter_interval_bounds  fit_guess                                               description\n",
      "wimp_mass                      50.0     False   None          NaN                 None               None       None                      None        NaN                                      WIMP mass in GeV/c^2\n",
      "livetime                        2.0     False   None          NaN                 None               None       None                      None        NaN                                         Livetime in years\n",
      "wimp_rate_multiplier            1.0      True   rate          NaN                 None               None  [0, None]                   [0, 50]        NaN                                                      None\n",
      "er_rate_multiplier              1.0      True   rate          0.2                 True               None  [0, None]                      None        1.0                                                      None\n",
      "er_band_shift                   0.0      True  shape          NaN                 None  [-2, -1, 0, 1, 2]    [-2, 2]                      None        NaN  ER band shape parameter (shifts the ER band up and down)\n"
     ]
    }
   ],
   "source": [
    "print(model.parameters)"
   ]
  },
  {
   "cell_type": "markdown",
   "metadata": {},
   "source": [
    "To perform a conditional fit, i.e. fix a parameter to a certain value, we can simply parse this value to the `fit`` method with the value of the parameter we want to fix. For example we could perform the background-only fit by fixing the `wimp_rate_multiplier` to 0."
   ]
  },
  {
   "cell_type": "code",
   "execution_count": 8,
   "metadata": {},
   "outputs": [
    {
     "data": {
      "text/plain": [
       "{'wimp_mass': 50.0,\n",
       " 'livetime': 2.0,\n",
       " 'wimp_rate_multiplier': 0.0,\n",
       " 'er_rate_multiplier': 1.029804318674445,\n",
       " 'er_band_shift': -0.14457157553431318}"
      ]
     },
     "execution_count": 8,
     "metadata": {},
     "output_type": "execute_result"
    }
   ],
   "source": [
    "best_fit_c, max_ll_c = model.fit(wimp_rate_multiplier=0.)\n",
    "best_fit_c"
   ]
  },
  {
   "cell_type": "code",
   "execution_count": 9,
   "metadata": {},
   "outputs": [
    {
     "data": {
      "text/html": [
       "<table>\n",
       "    <tr>\n",
       "        <th colspan=\"2\" style=\"text-align:center\" title=\"Minimizer\"> Migrad </th>\n",
       "    </tr>\n",
       "    <tr>\n",
       "        <td style=\"text-align:left\" title=\"Minimum value of function\"> FCN = 3082 </td>\n",
       "        <td style=\"text-align:center\" title=\"Total number of function and (optional) gradient evaluations\"> Nfcn = 46 </td>\n",
       "    </tr>\n",
       "    <tr>\n",
       "        <td style=\"text-align:left\" title=\"Estimated distance to minimum and goal\"> EDM = 2.71e-08 (Goal: 0.0001) </td>\n",
       "        <td style=\"text-align:center\" title=\"Total run time of algorithms\">  </td>\n",
       "    </tr>\n",
       "    <tr>\n",
       "        <td style=\"text-align:center;background-color:#92CCA6;color:black\"> Valid Minimum </td>\n",
       "        <td style=\"text-align:center;background-color:#92CCA6;color:black\"> Below EDM threshold (goal x 10) </td>\n",
       "    </tr>\n",
       "    <tr>\n",
       "        <td style=\"text-align:center;background-color:#92CCA6;color:black\"> No parameters at limit </td>\n",
       "        <td style=\"text-align:center;background-color:#92CCA6;color:black\"> Below call limit </td>\n",
       "    </tr>\n",
       "    <tr>\n",
       "        <td style=\"text-align:center;background-color:#92CCA6;color:black\"> Hesse ok </td>\n",
       "        <td style=\"text-align:center;background-color:#92CCA6;color:black\"> Covariance accurate </td>\n",
       "    </tr>\n",
       "</table><table>\n",
       "    <tr>\n",
       "        <td></td>\n",
       "        <th title=\"Variable name\"> Name </th>\n",
       "        <th title=\"Value of parameter\"> Value </th>\n",
       "        <th title=\"Hesse error\"> Hesse Error </th>\n",
       "        <th title=\"Minos lower error\"> Minos Error- </th>\n",
       "        <th title=\"Minos upper error\"> Minos Error+ </th>\n",
       "        <th title=\"Lower limit of the parameter\"> Limit- </th>\n",
       "        <th title=\"Upper limit of the parameter\"> Limit+ </th>\n",
       "        <th title=\"Is the parameter fixed in the fit\"> Fixed </th>\n",
       "    </tr>\n",
       "    <tr>\n",
       "        <th> 0 </th>\n",
       "        <td> wimp_mass </td>\n",
       "        <td> 50.0 </td>\n",
       "        <td> 0.5 </td>\n",
       "        <td>  </td>\n",
       "        <td>  </td>\n",
       "        <td>  </td>\n",
       "        <td>  </td>\n",
       "        <td> yes </td>\n",
       "    </tr>\n",
       "    <tr>\n",
       "        <th> 1 </th>\n",
       "        <td> livetime </td>\n",
       "        <td> 2.00 </td>\n",
       "        <td> 0.02 </td>\n",
       "        <td>  </td>\n",
       "        <td>  </td>\n",
       "        <td>  </td>\n",
       "        <td>  </td>\n",
       "        <td> yes </td>\n",
       "    </tr>\n",
       "    <tr>\n",
       "        <th> 2 </th>\n",
       "        <td> wimp_rate_multiplier </td>\n",
       "        <td> 0.0 </td>\n",
       "        <td> 0.1 </td>\n",
       "        <td>  </td>\n",
       "        <td>  </td>\n",
       "        <td> 0 </td>\n",
       "        <td>  </td>\n",
       "        <td> yes </td>\n",
       "    </tr>\n",
       "    <tr>\n",
       "        <th> 3 </th>\n",
       "        <td> er_rate_multiplier </td>\n",
       "        <td> 1.03 </td>\n",
       "        <td> 0.05 </td>\n",
       "        <td>  </td>\n",
       "        <td>  </td>\n",
       "        <td> 0 </td>\n",
       "        <td>  </td>\n",
       "        <td>  </td>\n",
       "    </tr>\n",
       "    <tr>\n",
       "        <th> 4 </th>\n",
       "        <td> er_band_shift </td>\n",
       "        <td> -0.14 </td>\n",
       "        <td> 0.07 </td>\n",
       "        <td>  </td>\n",
       "        <td>  </td>\n",
       "        <td> -2 </td>\n",
       "        <td> 2 </td>\n",
       "        <td>  </td>\n",
       "    </tr>\n",
       "</table><table>\n",
       "    <tr>\n",
       "        <td></td>\n",
       "        <th> wimp_mass </th>\n",
       "        <th> livetime </th>\n",
       "        <th> wimp_rate_multiplier </th>\n",
       "        <th> er_rate_multiplier </th>\n",
       "        <th> er_band_shift </th>\n",
       "    </tr>\n",
       "    <tr>\n",
       "        <th> wimp_mass </th>\n",
       "        <td> 0 </td>\n",
       "        <td style=\"background-color:rgb(250,250,250);color:black\"> 0 </td>\n",
       "        <td style=\"background-color:rgb(250,250,250);color:black\"> 0 </td>\n",
       "        <td style=\"background-color:rgb(250,250,250);color:black\"> 0.0000 </td>\n",
       "        <td style=\"background-color:rgb(250,250,250);color:black\"> 0.000 </td>\n",
       "    </tr>\n",
       "    <tr>\n",
       "        <th> livetime </th>\n",
       "        <td style=\"background-color:rgb(250,250,250);color:black\"> 0 </td>\n",
       "        <td> 0 </td>\n",
       "        <td style=\"background-color:rgb(250,250,250);color:black\"> 0 </td>\n",
       "        <td style=\"background-color:rgb(250,250,250);color:black\"> 0.0000 </td>\n",
       "        <td style=\"background-color:rgb(250,250,250);color:black\"> 0.000 </td>\n",
       "    </tr>\n",
       "    <tr>\n",
       "        <th> wimp_rate_multiplier </th>\n",
       "        <td style=\"background-color:rgb(250,250,250);color:black\"> 0 </td>\n",
       "        <td style=\"background-color:rgb(250,250,250);color:black\"> 0 </td>\n",
       "        <td> 0 </td>\n",
       "        <td style=\"background-color:rgb(250,250,250);color:black\"> 0.0000 </td>\n",
       "        <td style=\"background-color:rgb(250,250,250);color:black\"> 0.000 </td>\n",
       "    </tr>\n",
       "    <tr>\n",
       "        <th> er_rate_multiplier </th>\n",
       "        <td style=\"background-color:rgb(250,250,250);color:black\"> 0.0000 </td>\n",
       "        <td style=\"background-color:rgb(250,250,250);color:black\"> 0.0000 </td>\n",
       "        <td style=\"background-color:rgb(250,250,250);color:black\"> 0.0000 </td>\n",
       "        <td> 0.00245 </td>\n",
       "        <td style=\"background-color:rgb(250,250,250);color:black\"> 0.0000 </td>\n",
       "    </tr>\n",
       "    <tr>\n",
       "        <th> er_band_shift </th>\n",
       "        <td style=\"background-color:rgb(250,250,250);color:black\"> 0.000 </td>\n",
       "        <td style=\"background-color:rgb(250,250,250);color:black\"> 0.000 </td>\n",
       "        <td style=\"background-color:rgb(250,250,250);color:black\"> 0.000 </td>\n",
       "        <td style=\"background-color:rgb(250,250,250);color:black\"> 0.0000 </td>\n",
       "        <td> 0.00482 </td>\n",
       "    </tr>\n",
       "</table>"
      ],
      "text/plain": [
       "┌─────────────────────────────────────────────────────────────────────────┐\n",
       "│                                Migrad                                   │\n",
       "├──────────────────────────────────┬──────────────────────────────────────┤\n",
       "│ FCN = 3082                       │              Nfcn = 46               │\n",
       "│ EDM = 2.71e-08 (Goal: 0.0001)    │                                      │\n",
       "├──────────────────────────────────┼──────────────────────────────────────┤\n",
       "│          Valid Minimum           │   Below EDM threshold (goal x 10)    │\n",
       "├──────────────────────────────────┼──────────────────────────────────────┤\n",
       "│      No parameters at limit      │           Below call limit           │\n",
       "├──────────────────────────────────┼──────────────────────────────────────┤\n",
       "│             Hesse ok             │         Covariance accurate          │\n",
       "└──────────────────────────────────┴──────────────────────────────────────┘\n",
       "┌───┬──────────────────────┬───────────┬───────────┬────────────┬────────────┬─────────┬─────────┬───────┐\n",
       "│   │ Name                 │   Value   │ Hesse Err │ Minos Err- │ Minos Err+ │ Limit-  │ Limit+  │ Fixed │\n",
       "├───┼──────────────────────┼───────────┼───────────┼────────────┼────────────┼─────────┼─────────┼───────┤\n",
       "│ 0 │ wimp_mass            │   50.0    │    0.5    │            │            │         │         │  yes  │\n",
       "│ 1 │ livetime             │   2.00    │   0.02    │            │            │         │         │  yes  │\n",
       "│ 2 │ wimp_rate_multiplier │    0.0    │    0.1    │            │            │    0    │         │  yes  │\n",
       "│ 3 │ er_rate_multiplier   │   1.03    │   0.05    │            │            │    0    │         │       │\n",
       "│ 4 │ er_band_shift        │   -0.14   │   0.07    │            │            │   -2    │    2    │       │\n",
       "└───┴──────────────────────┴───────────┴───────────┴────────────┴────────────┴─────────┴─────────┴───────┘\n",
       "┌──────────────────────┬──────────────────────────────────────────────────────────────────────────────────────────────────────────┐\n",
       "│                      │            wimp_mass             livetime wimp_rate_multiplier   er_rate_multiplier        er_band_shift │\n",
       "├──────────────────────┼──────────────────────────────────────────────────────────────────────────────────────────────────────────┤\n",
       "│            wimp_mass │                    0                    0                    0               0.0000                0.000 │\n",
       "│             livetime │                    0                    0                    0               0.0000                0.000 │\n",
       "│ wimp_rate_multiplier │                    0                    0                    0               0.0000                0.000 │\n",
       "│   er_rate_multiplier │               0.0000               0.0000               0.0000              0.00245               0.0000 │\n",
       "│        er_band_shift │                0.000                0.000                0.000               0.0000              0.00482 │\n",
       "└──────────────────────┴──────────────────────────────────────────────────────────────────────────────────────────────────────────┘"
      ]
     },
     "execution_count": 9,
     "metadata": {},
     "output_type": "execute_result"
    }
   ],
   "source": [
    "model.minuit_object"
   ]
  },
  {
   "cell_type": "code",
   "execution_count": 10,
   "metadata": {},
   "outputs": [
    {
     "data": {
      "text/plain": [
       "{'er': 411.9217320132483, 'wimp': 0.0}"
      ]
     },
     "execution_count": 10,
     "metadata": {},
     "output_type": "execute_result"
    }
   ],
   "source": [
    "model.get_expectation_values(**best_fit_c)"
   ]
  },
  {
   "cell_type": "markdown",
   "metadata": {},
   "source": [
    "You can nicely see that in the constrained fit, the missing WIMP signal component is absorbed by a higher ER rate and a lower ER shift parameter (shifting the ER band down in cs2 towards the WIMP signals in our toy data)."
   ]
  },
  {
   "cell_type": "markdown",
   "metadata": {},
   "source": [
    "## 2.3 The ancillary likelihood term"
   ]
  },
  {
   "cell_type": "code",
   "execution_count": null,
   "metadata": {},
   "outputs": [],
   "source": [
    "# TODO: Illustrate the impact of the ancillary term by putting the er rate multiplier somewhere ridiculous"
   ]
  },
  {
   "cell_type": "markdown",
   "metadata": {},
   "source": [
    "## 2.4 Constructing confidence intervals"
   ]
  },
  {
   "cell_type": "code",
   "execution_count": 11,
   "metadata": {},
   "outputs": [
    {
     "data": {
      "text/plain": [
       "(0.8035429129786587, 1.8475071911094776)"
      ]
     },
     "execution_count": 11,
     "metadata": {},
     "output_type": "execute_result"
    }
   ],
   "source": [
    "model.confidence_interval('wimp_rate_multiplier')"
   ]
  },
  {
   "cell_type": "code",
   "execution_count": null,
   "metadata": {},
   "outputs": [],
   "source": [
    "# TODO: Illustrate the asymptotic construction of the CI"
   ]
  }
 ],
 "metadata": {
  "kernelspec": {
   "display_name": "binf_env",
   "language": "python",
   "name": "python3"
  },
  "language_info": {
   "codemirror_mode": {
    "name": "ipython",
    "version": 3
   },
   "file_extension": ".py",
   "mimetype": "text/x-python",
   "name": "python",
   "nbconvert_exporter": "python",
   "pygments_lexer": "ipython3",
   "version": "3.11.3"
  },
  "orig_nbformat": 4
 },
 "nbformat": 4,
 "nbformat_minor": 2
}
