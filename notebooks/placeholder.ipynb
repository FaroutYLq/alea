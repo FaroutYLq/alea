{
 "cells": [
  {
   "cell_type": "markdown",
   "id": "76edc00b-f220-47e2-914b-0781c288594d",
   "metadata": {},
   "source": [
    "Please delete this when new meaningful notebooks are added."
   ]
  }
 ],
 "metadata": {
  "kernelspec": {
   "display_name": "Python 3 (ipykernel)",
   "language": "python",
   "name": "python3"
  },
  "language_info": {
   "codemirror_mode": {
    "name": "ipython",
    "version": 3
   },
   "file_extension": ".py",
   "mimetype": "text/x-python",
   "name": "python",
   "nbconvert_exporter": "python",
   "pygments_lexer": "ipython3",
   "version": "3.9.17"
  }
 },
 "nbformat": 4,
 "nbformat_minor": 5
}
