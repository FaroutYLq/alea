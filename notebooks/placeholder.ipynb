{
 "cells": [
  {
   "cell_type": "markdown",
   "id": "76edc00b-f220-47e2-914b-0781c288594d",
   "metadata": {},
   "source": [
    "# Please delete this when new meaningful notebooks are added."
   ]
  },
  {
   "cell_type": "code",
   "execution_count": 1,
   "id": "a44a6f92-9962-493e-99a7-d2537b14e77b",
   "metadata": {},
   "outputs": [],
   "source": [
    "from alea.examples import GaussianModel"
   ]
  },
  {
   "cell_type": "code",
   "execution_count": 2,
   "id": "c47b23e6-b250-40dc-bd4d-246bbb16f547",
   "metadata": {},
   "outputs": [],
   "source": [
    "parameter_definition = {\n",
    "    'mu': {\n",
    "        'fit_guess': 0.,\n",
    "        'fittable': True,\n",
    "        'nominal_value': 0.,\n",
    "    },\n",
    "    'sigma': {\n",
    "        'fit_guess': 1.,\n",
    "        'fit_limits': [\n",
    "            0.,\n",
    "            None,\n",
    "        ],\n",
    "        'fittable': True,\n",
    "        'nominal_value': 1.,\n",
    "    },\n",
    "}\n",
    "model = GaussianModel(parameter_definition=parameter_definition)"
   ]
  },
  {
   "cell_type": "code",
   "execution_count": 3,
   "id": "5bf427fd-baf9-45d8-86c8-941118d3837b",
   "metadata": {},
   "outputs": [],
   "source": [
    "model.data = model.generate_data(mu=0, sigma=2)\n",
    "best_fit, lf = model.fit(sigma=2)"
   ]
  }
 ],
 "metadata": {
  "kernelspec": {
   "display_name": "Python 3 (ipykernel)",
   "language": "python",
   "name": "python3"
  },
  "language_info": {
   "codemirror_mode": {
    "name": "ipython",
    "version": 3
   },
   "file_extension": ".py",
   "mimetype": "text/x-python",
   "name": "python",
   "nbconvert_exporter": "python",
   "pygments_lexer": "ipython3",
   "version": "3.9.17"
  }
 },
 "nbformat": 4,
 "nbformat_minor": 5
}
